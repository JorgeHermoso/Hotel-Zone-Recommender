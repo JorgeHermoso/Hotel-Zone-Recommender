{
 "cells": [
  {
   "cell_type": "code",
   "execution_count": null,
   "metadata": {},
   "outputs": [],
   "source": [
    "H"
   ]
  },
  {
   "cell_type": "markdown",
   "metadata": {},
   "source": [
    "### Problem Definition"
   ]
  },
  {
   "cell_type": "markdown",
   "metadata": {},
   "source": [
    "This web app will recommend the user a neighborhood to book a hotel based on previous user ratings to venues (ratings from wherever in the world).\n",
    "The app will then have two main inputs, the first one will be the previous ratings of the user to different venues in whichever city/town, the second input will be a place or destination (in longitude and latitude) to which the user is looking to find a zone or hotel to stay. These inputs will be processed through a recommendation system, after that, the algorithm will already have insights to recommend a zone that is more likely for the user to find venues near that he or she will be likely to enjoy, and a list of hotels in that zone.\n"
   ]
  },
  {
   "cell_type": "markdown",
   "metadata": {},
   "source": [
    "### Data to be used"
   ]
  },
  {
   "cell_type": "code",
   "execution_count": null,
   "metadata": {},
   "outputs": [],
   "source": []
  }
 ],
 "metadata": {
  "kernelspec": {
   "display_name": "Python",
   "language": "python",
   "name": "conda-env-python-py"
  },
  "language_info": {
   "codemirror_mode": {
    "name": "ipython",
    "version": 3
   },
   "file_extension": ".py",
   "mimetype": "text/x-python",
   "name": "python",
   "nbconvert_exporter": "python",
   "pygments_lexer": "ipython3",
   "version": "3.6.10"
  }
 },
 "nbformat": 4,
 "nbformat_minor": 4
}
